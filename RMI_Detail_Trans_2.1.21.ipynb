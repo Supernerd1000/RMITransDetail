{
 "cells": [
  {
   "cell_type": "code",
   "execution_count": 1,
   "metadata": {},
   "outputs": [],
   "source": [
    "import pandas as pd\n",
    "import numpy as np"
   ]
  },
  {
   "cell_type": "code",
   "execution_count": 2,
   "metadata": {},
   "outputs": [],
   "source": [
    "from xml.sax import ContentHandler, parse\n",
    "\n",
    "# Reference https://goo.gl/KaOBG3\n",
    "class ExcelHandler(ContentHandler):\n",
    "    def __init__(self):\n",
    "        self.chars = [  ]\n",
    "        self.cells = [  ]\n",
    "        self.rows = [  ]\n",
    "        self.tables = [  ]\n",
    "    def characters(self, content):\n",
    "        self.chars.append(content)\n",
    "    def startElement(self, name, atts):\n",
    "        if name==\"Cell\":\n",
    "            self.chars = [  ]\n",
    "        elif name==\"Row\":\n",
    "            self.cells=[  ]\n",
    "        elif name==\"Table\":\n",
    "            self.rows = [  ]\n",
    "    def endElement(self, name):\n",
    "        if name==\"Cell\":\n",
    "            self.cells.append(''.join(self.chars))\n",
    "        elif name==\"Row\":\n",
    "            self.rows.append(self.cells)\n",
    "        elif name==\"Table\":\n",
    "            self.tables.append(self.rows)\n",
    "\n",
    "excelHandler = ExcelHandler()\n",
    "parse('../Data/raw/ADAPTIVETransactionSearchPLJeremyResults354.xls', excelHandler)\n",
    "df1 = pd.DataFrame(excelHandler.tables[0][1:], columns=excelHandler.tables[0][0])\n",
    "\n"
   ]
  },
  {
   "cell_type": "code",
   "execution_count": 3,
   "metadata": {},
   "outputs": [
    {
     "data": {
      "text/html": [
       "<div>\n",
       "<style scoped>\n",
       "    .dataframe tbody tr th:only-of-type {\n",
       "        vertical-align: middle;\n",
       "    }\n",
       "\n",
       "    .dataframe tbody tr th {\n",
       "        vertical-align: top;\n",
       "    }\n",
       "\n",
       "    .dataframe thead th {\n",
       "        text-align: right;\n",
       "    }\n",
       "</style>\n",
       "<table border=\"1\" class=\"dataframe\">\n",
       "  <thead>\n",
       "    <tr style=\"text-align: right;\">\n",
       "      <th></th>\n",
       "      <th>Date</th>\n",
       "      <th>Period</th>\n",
       "      <th>GL Account</th>\n",
       "      <th>Document Number</th>\n",
       "      <th>Program</th>\n",
       "      <th>Initiative</th>\n",
       "      <th>Project</th>\n",
       "      <th>Restriction</th>\n",
       "      <th>Grant</th>\n",
       "      <th>Amount</th>\n",
       "      <th>Vendor Name</th>\n",
       "      <th>Employee Name</th>\n",
       "      <th>Memo</th>\n",
       "      <th>Amount (Credit)</th>\n",
       "      <th>Amount (Debit)</th>\n",
       "      <th>Client</th>\n",
       "      <th>Transaction Number</th>\n",
       "      <th>Type</th>\n",
       "      <th>Vendor Rate</th>\n",
       "      <th>Vendor Contract Expiration Date</th>\n",
       "    </tr>\n",
       "  </thead>\n",
       "  <tbody>\n",
       "    <tr>\n",
       "      <th>0</th>\n",
       "      <td>2020-07-01T00:00:00</td>\n",
       "      <td>Jul 2020</td>\n",
       "      <td>5010 Contributions Revenue : Foundation Contri...</td>\n",
       "      <td>JE5152</td>\n",
       "      <td>Development</td>\n",
       "      <td>DEV - Admin</td>\n",
       "      <td>Donation : Donation</td>\n",
       "      <td>2-Temporary Restricted</td>\n",
       "      <td>WRI - Islands FY20</td>\n",
       "      <td>50000.00</td>\n",
       "      <td></td>\n",
       "      <td></td>\n",
       "      <td>WRI - Islands FY20</td>\n",
       "      <td>50000.00</td>\n",
       "      <td></td>\n",
       "      <td></td>\n",
       "      <td>JOURNAL5152</td>\n",
       "      <td>Journal</td>\n",
       "      <td></td>\n",
       "      <td></td>\n",
       "    </tr>\n",
       "    <tr>\n",
       "      <th>1</th>\n",
       "      <td>2020-09-30T00:00:00</td>\n",
       "      <td>Sep 2020</td>\n",
       "      <td>5010 Contributions Revenue : Foundation Contri...</td>\n",
       "      <td>JE5424</td>\n",
       "      <td>Development</td>\n",
       "      <td>DEV - Admin</td>\n",
       "      <td>Donation : Donation</td>\n",
       "      <td>2-Temporary Restricted</td>\n",
       "      <td>WRI - Islands FY20</td>\n",
       "      <td>50000.00</td>\n",
       "      <td></td>\n",
       "      <td></td>\n",
       "      <td>WRI - Islands FY20</td>\n",
       "      <td>50000.00</td>\n",
       "      <td></td>\n",
       "      <td></td>\n",
       "      <td>JOURNAL5424</td>\n",
       "      <td>Journal</td>\n",
       "      <td></td>\n",
       "      <td></td>\n",
       "    </tr>\n",
       "    <tr>\n",
       "      <th>2</th>\n",
       "      <td>2020-10-31T00:00:00</td>\n",
       "      <td>Oct 2020</td>\n",
       "      <td>5010 Contributions Revenue : Foundation Contri...</td>\n",
       "      <td>JE5578</td>\n",
       "      <td>Development</td>\n",
       "      <td>DEV - Admin</td>\n",
       "      <td>Donation : Donation</td>\n",
       "      <td>2-Temporary Restricted</td>\n",
       "      <td>WRI - Islands FY20</td>\n",
       "      <td>150000.00</td>\n",
       "      <td></td>\n",
       "      <td></td>\n",
       "      <td>WRI - Islands FY20</td>\n",
       "      <td>150000.00</td>\n",
       "      <td></td>\n",
       "      <td></td>\n",
       "      <td>JOURNAL5578</td>\n",
       "      <td>Journal</td>\n",
       "      <td></td>\n",
       "      <td></td>\n",
       "    </tr>\n",
       "    <tr>\n",
       "      <th>3</th>\n",
       "      <td>2020-07-31T00:00:00</td>\n",
       "      <td>Jul 2020</td>\n",
       "      <td>7020 Salaries &amp; Wages : Salaries &amp; Wages</td>\n",
       "      <td>JE5137</td>\n",
       "      <td>Islands</td>\n",
       "      <td>IS - Islands</td>\n",
       "      <td>*Restricted : NDC Partnerships CAEP - Belize</td>\n",
       "      <td>1-Unrestricted</td>\n",
       "      <td>WRI - Islands FY20</td>\n",
       "      <td>242.53</td>\n",
       "      <td></td>\n",
       "      <td></td>\n",
       "      <td>JULY 2020 000626 Sidney Jules *Restricted : ND...</td>\n",
       "      <td></td>\n",
       "      <td>242.53</td>\n",
       "      <td></td>\n",
       "      <td>JOURNAL5137</td>\n",
       "      <td>Journal</td>\n",
       "      <td></td>\n",
       "      <td></td>\n",
       "    </tr>\n",
       "    <tr>\n",
       "      <th>4</th>\n",
       "      <td>2020-07-31T00:00:00</td>\n",
       "      <td>Jul 2020</td>\n",
       "      <td>7020 Salaries &amp; Wages : Salaries &amp; Wages</td>\n",
       "      <td>JE5137</td>\n",
       "      <td>Islands</td>\n",
       "      <td>IS - Islands</td>\n",
       "      <td>*Restricted : NDC Partnerships CAEP - Belize</td>\n",
       "      <td>1-Unrestricted</td>\n",
       "      <td>WRI - Islands FY20</td>\n",
       "      <td>2740.03</td>\n",
       "      <td></td>\n",
       "      <td></td>\n",
       "      <td>JULY 2020 000877 Shelley Backstrom *Restricted...</td>\n",
       "      <td></td>\n",
       "      <td>2740.03</td>\n",
       "      <td></td>\n",
       "      <td>JOURNAL5137</td>\n",
       "      <td>Journal</td>\n",
       "      <td></td>\n",
       "      <td></td>\n",
       "    </tr>\n",
       "    <tr>\n",
       "      <th>...</th>\n",
       "      <td>...</td>\n",
       "      <td>...</td>\n",
       "      <td>...</td>\n",
       "      <td>...</td>\n",
       "      <td>...</td>\n",
       "      <td>...</td>\n",
       "      <td>...</td>\n",
       "      <td>...</td>\n",
       "      <td>...</td>\n",
       "      <td>...</td>\n",
       "      <td>...</td>\n",
       "      <td>...</td>\n",
       "      <td>...</td>\n",
       "      <td>...</td>\n",
       "      <td>...</td>\n",
       "      <td>...</td>\n",
       "      <td>...</td>\n",
       "      <td>...</td>\n",
       "      <td>...</td>\n",
       "      <td>...</td>\n",
       "    </tr>\n",
       "    <tr>\n",
       "      <th>73434</th>\n",
       "      <td>2020-08-31T00:00:00</td>\n",
       "      <td>Aug 2020</td>\n",
       "      <td>5430 Other Revenue : Other Income</td>\n",
       "      <td>JE5179</td>\n",
       "      <td></td>\n",
       "      <td></td>\n",
       "      <td></td>\n",
       "      <td></td>\n",
       "      <td></td>\n",
       "      <td>4118.53</td>\n",
       "      <td></td>\n",
       "      <td></td>\n",
       "      <td>Adjustment of other payables from HQ</td>\n",
       "      <td>4118.53</td>\n",
       "      <td></td>\n",
       "      <td></td>\n",
       "      <td>JOURNAL5179</td>\n",
       "      <td>Journal</td>\n",
       "      <td></td>\n",
       "      <td></td>\n",
       "    </tr>\n",
       "    <tr>\n",
       "      <th>73435</th>\n",
       "      <td>2020-08-31T00:00:00</td>\n",
       "      <td>Aug 2020</td>\n",
       "      <td>7385 Other Operating Expenses : Bank/Credit Ca...</td>\n",
       "      <td>JE5179</td>\n",
       "      <td></td>\n",
       "      <td></td>\n",
       "      <td></td>\n",
       "      <td></td>\n",
       "      <td></td>\n",
       "      <td>7.07</td>\n",
       "      <td></td>\n",
       "      <td></td>\n",
       "      <td>Bank charge - Finance</td>\n",
       "      <td></td>\n",
       "      <td>7.07</td>\n",
       "      <td></td>\n",
       "      <td>JOURNAL5179</td>\n",
       "      <td>Journal</td>\n",
       "      <td></td>\n",
       "      <td></td>\n",
       "    </tr>\n",
       "    <tr>\n",
       "      <th>73436</th>\n",
       "      <td>2020-08-31T00:00:00</td>\n",
       "      <td>Aug 2020</td>\n",
       "      <td>7750 Non-Operating Expenses : Foreign Currency...</td>\n",
       "      <td>JE5179</td>\n",
       "      <td></td>\n",
       "      <td></td>\n",
       "      <td></td>\n",
       "      <td></td>\n",
       "      <td></td>\n",
       "      <td>1008.00</td>\n",
       "      <td></td>\n",
       "      <td></td>\n",
       "      <td>Carry-out exchanges gain or loss</td>\n",
       "      <td></td>\n",
       "      <td>1008.00</td>\n",
       "      <td></td>\n",
       "      <td>JOURNAL5179</td>\n",
       "      <td>Journal</td>\n",
       "      <td></td>\n",
       "      <td></td>\n",
       "    </tr>\n",
       "    <tr>\n",
       "      <th>73437</th>\n",
       "      <td>2020-08-31T00:00:00</td>\n",
       "      <td>Aug 2020</td>\n",
       "      <td>7750 Non-Operating Expenses : Foreign Currency...</td>\n",
       "      <td>JE5198</td>\n",
       "      <td></td>\n",
       "      <td></td>\n",
       "      <td></td>\n",
       "      <td></td>\n",
       "      <td></td>\n",
       "      <td>66.59</td>\n",
       "      <td></td>\n",
       "      <td></td>\n",
       "      <td>RMII Foreign Currency Adjustment to tie to DSA...</td>\n",
       "      <td></td>\n",
       "      <td>66.59</td>\n",
       "      <td></td>\n",
       "      <td>JOURNAL5198</td>\n",
       "      <td>Journal</td>\n",
       "      <td></td>\n",
       "      <td></td>\n",
       "    </tr>\n",
       "    <tr>\n",
       "      <th>73438</th>\n",
       "      <td>Overall Total</td>\n",
       "      <td></td>\n",
       "      <td></td>\n",
       "      <td></td>\n",
       "      <td></td>\n",
       "      <td></td>\n",
       "      <td></td>\n",
       "      <td></td>\n",
       "      <td></td>\n",
       "      <td>80734033.99</td>\n",
       "      <td></td>\n",
       "      <td></td>\n",
       "      <td></td>\n",
       "      <td>103572849.21</td>\n",
       "      <td>88094116.42</td>\n",
       "      <td></td>\n",
       "      <td></td>\n",
       "      <td></td>\n",
       "      <td></td>\n",
       "      <td></td>\n",
       "    </tr>\n",
       "  </tbody>\n",
       "</table>\n",
       "<p>73439 rows × 20 columns</p>\n",
       "</div>"
      ],
      "text/plain": [
       "                      Date    Period  \\\n",
       "0      2020-07-01T00:00:00  Jul 2020   \n",
       "1      2020-09-30T00:00:00  Sep 2020   \n",
       "2      2020-10-31T00:00:00  Oct 2020   \n",
       "3      2020-07-31T00:00:00  Jul 2020   \n",
       "4      2020-07-31T00:00:00  Jul 2020   \n",
       "...                    ...       ...   \n",
       "73434  2020-08-31T00:00:00  Aug 2020   \n",
       "73435  2020-08-31T00:00:00  Aug 2020   \n",
       "73436  2020-08-31T00:00:00  Aug 2020   \n",
       "73437  2020-08-31T00:00:00  Aug 2020   \n",
       "73438        Overall Total             \n",
       "\n",
       "                                              GL Account Document Number  \\\n",
       "0      5010 Contributions Revenue : Foundation Contri...          JE5152   \n",
       "1      5010 Contributions Revenue : Foundation Contri...          JE5424   \n",
       "2      5010 Contributions Revenue : Foundation Contri...          JE5578   \n",
       "3               7020 Salaries & Wages : Salaries & Wages          JE5137   \n",
       "4               7020 Salaries & Wages : Salaries & Wages          JE5137   \n",
       "...                                                  ...             ...   \n",
       "73434                  5430 Other Revenue : Other Income          JE5179   \n",
       "73435  7385 Other Operating Expenses : Bank/Credit Ca...          JE5179   \n",
       "73436  7750 Non-Operating Expenses : Foreign Currency...          JE5179   \n",
       "73437  7750 Non-Operating Expenses : Foreign Currency...          JE5198   \n",
       "73438                                                                      \n",
       "\n",
       "           Program    Initiative  \\\n",
       "0      Development   DEV - Admin   \n",
       "1      Development   DEV - Admin   \n",
       "2      Development   DEV - Admin   \n",
       "3          Islands  IS - Islands   \n",
       "4          Islands  IS - Islands   \n",
       "...            ...           ...   \n",
       "73434                              \n",
       "73435                              \n",
       "73436                              \n",
       "73437                              \n",
       "73438                              \n",
       "\n",
       "                                            Project             Restriction  \\\n",
       "0                               Donation : Donation  2-Temporary Restricted   \n",
       "1                               Donation : Donation  2-Temporary Restricted   \n",
       "2                               Donation : Donation  2-Temporary Restricted   \n",
       "3      *Restricted : NDC Partnerships CAEP - Belize          1-Unrestricted   \n",
       "4      *Restricted : NDC Partnerships CAEP - Belize          1-Unrestricted   \n",
       "...                                             ...                     ...   \n",
       "73434                                                                         \n",
       "73435                                                                         \n",
       "73436                                                                         \n",
       "73437                                                                         \n",
       "73438                                                                         \n",
       "\n",
       "                    Grant       Amount Vendor Name Employee Name  \\\n",
       "0      WRI - Islands FY20     50000.00                             \n",
       "1      WRI - Islands FY20     50000.00                             \n",
       "2      WRI - Islands FY20    150000.00                             \n",
       "3      WRI - Islands FY20       242.53                             \n",
       "4      WRI - Islands FY20      2740.03                             \n",
       "...                   ...          ...         ...           ...   \n",
       "73434                          4118.53                             \n",
       "73435                             7.07                             \n",
       "73436                          1008.00                             \n",
       "73437                            66.59                             \n",
       "73438                      80734033.99                             \n",
       "\n",
       "                                                    Memo Amount (Credit)  \\\n",
       "0                                     WRI - Islands FY20        50000.00   \n",
       "1                                     WRI - Islands FY20        50000.00   \n",
       "2                                     WRI - Islands FY20       150000.00   \n",
       "3      JULY 2020 000626 Sidney Jules *Restricted : ND...                   \n",
       "4      JULY 2020 000877 Shelley Backstrom *Restricted...                   \n",
       "...                                                  ...             ...   \n",
       "73434               Adjustment of other payables from HQ         4118.53   \n",
       "73435                              Bank charge - Finance                   \n",
       "73436                   Carry-out exchanges gain or loss                   \n",
       "73437  RMII Foreign Currency Adjustment to tie to DSA...                   \n",
       "73438                                                       103572849.21   \n",
       "\n",
       "      Amount (Debit) Client Transaction Number     Type Vendor Rate  \\\n",
       "0                                  JOURNAL5152  Journal               \n",
       "1                                  JOURNAL5424  Journal               \n",
       "2                                  JOURNAL5578  Journal               \n",
       "3             242.53               JOURNAL5137  Journal               \n",
       "4            2740.03               JOURNAL5137  Journal               \n",
       "...              ...    ...                ...      ...         ...   \n",
       "73434                              JOURNAL5179  Journal               \n",
       "73435           7.07               JOURNAL5179  Journal               \n",
       "73436        1008.00               JOURNAL5179  Journal               \n",
       "73437          66.59               JOURNAL5198  Journal               \n",
       "73438    88094116.42                                                  \n",
       "\n",
       "      Vendor Contract Expiration Date  \n",
       "0                                      \n",
       "1                                      \n",
       "2                                      \n",
       "3                                      \n",
       "4                                      \n",
       "...                               ...  \n",
       "73434                                  \n",
       "73435                                  \n",
       "73436                                  \n",
       "73437                                  \n",
       "73438                                  \n",
       "\n",
       "[73439 rows x 20 columns]"
      ]
     },
     "execution_count": 3,
     "metadata": {},
     "output_type": "execute_result"
    }
   ],
   "source": [
    "df1"
   ]
  },
  {
   "cell_type": "code",
   "execution_count": 4,
   "metadata": {},
   "outputs": [],
   "source": [
    "excelHandler = ExcelHandler()\n",
    "parse('../Data/raw/Employees760.xls', excelHandler)\n",
    "employee_list = pd.DataFrame(excelHandler.tables[0][1:], columns=excelHandler.tables[0][0])\n"
   ]
  },
  {
   "cell_type": "code",
   "execution_count": 5,
   "metadata": {},
   "outputs": [
    {
     "data": {
      "text/html": [
       "<div>\n",
       "<style scoped>\n",
       "    .dataframe tbody tr th:only-of-type {\n",
       "        vertical-align: middle;\n",
       "    }\n",
       "\n",
       "    .dataframe tbody tr th {\n",
       "        vertical-align: top;\n",
       "    }\n",
       "\n",
       "    .dataframe thead th {\n",
       "        text-align: right;\n",
       "    }\n",
       "</style>\n",
       "<table border=\"1\" class=\"dataframe\">\n",
       "  <thead>\n",
       "    <tr style=\"text-align: right;\">\n",
       "      <th></th>\n",
       "      <th>Inactive</th>\n",
       "      <th>Internal ID</th>\n",
       "      <th>Name</th>\n",
       "      <th>Job Title</th>\n",
       "      <th>Program</th>\n",
       "      <th>Monthly Bonus Amount</th>\n",
       "      <th>Initiatives</th>\n",
       "      <th>Termination/Release Date</th>\n",
       "      <th>Hourly Rate</th>\n",
       "      <th>External ID</th>\n",
       "    </tr>\n",
       "  </thead>\n",
       "  <tbody>\n",
       "    <tr>\n",
       "      <th>0</th>\n",
       "      <td>No</td>\n",
       "      <td>94538</td>\n",
       "      <td>Aaron Davitt</td>\n",
       "      <td>Principal Analyst</td>\n",
       "      <td>WattTime</td>\n",
       "      <td></td>\n",
       "      <td>WAT - Admin</td>\n",
       "      <td></td>\n",
       "      <td></td>\n",
       "      <td>000978</td>\n",
       "    </tr>\n",
       "    <tr>\n",
       "      <th>1</th>\n",
       "      <td>No</td>\n",
       "      <td>45398</td>\n",
       "      <td>Aaron G Glazer</td>\n",
       "      <td>Associate</td>\n",
       "      <td>Carbon-Free Electricity</td>\n",
       "      <td>200.00</td>\n",
       "      <td>POW - Admin</td>\n",
       "      <td></td>\n",
       "      <td></td>\n",
       "      <td>000802</td>\n",
       "    </tr>\n",
       "    <tr>\n",
       "      <th>2</th>\n",
       "      <td>No</td>\n",
       "      <td>93272</td>\n",
       "      <td>Aaron Schwartz</td>\n",
       "      <td>Intern</td>\n",
       "      <td>Carbon-Free Electricity</td>\n",
       "      <td></td>\n",
       "      <td>POW - Admin</td>\n",
       "      <td>2020-09-04T00:00:00</td>\n",
       "      <td></td>\n",
       "      <td>000937</td>\n",
       "    </tr>\n",
       "    <tr>\n",
       "      <th>3</th>\n",
       "      <td>No</td>\n",
       "      <td>92131</td>\n",
       "      <td>Abhishek Jain</td>\n",
       "      <td>Intern</td>\n",
       "      <td>Carbon-Free Buildings</td>\n",
       "      <td>.00</td>\n",
       "      <td>BLD - Admin</td>\n",
       "      <td>2020-10-31T00:00:00</td>\n",
       "      <td></td>\n",
       "      <td>000943</td>\n",
       "    </tr>\n",
       "    <tr>\n",
       "      <th>4</th>\n",
       "      <td>No</td>\n",
       "      <td>3793</td>\n",
       "      <td>Adam Klauber</td>\n",
       "      <td>Director</td>\n",
       "      <td>Industry</td>\n",
       "      <td></td>\n",
       "      <td>INY - Admin</td>\n",
       "      <td>2019-05-17T00:00:00</td>\n",
       "      <td></td>\n",
       "      <td>000524</td>\n",
       "    </tr>\n",
       "  </tbody>\n",
       "</table>\n",
       "</div>"
      ],
      "text/plain": [
       "  Inactive Internal ID            Name          Job Title  \\\n",
       "0       No       94538    Aaron Davitt  Principal Analyst   \n",
       "1       No       45398  Aaron G Glazer          Associate   \n",
       "2       No       93272  Aaron Schwartz             Intern   \n",
       "3       No       92131   Abhishek Jain             Intern   \n",
       "4       No        3793    Adam Klauber           Director   \n",
       "\n",
       "                   Program Monthly Bonus Amount  Initiatives  \\\n",
       "0                 WattTime                       WAT - Admin   \n",
       "1  Carbon-Free Electricity               200.00  POW - Admin   \n",
       "2  Carbon-Free Electricity                       POW - Admin   \n",
       "3    Carbon-Free Buildings                  .00  BLD - Admin   \n",
       "4                 Industry                       INY - Admin   \n",
       "\n",
       "  Termination/Release Date Hourly Rate External ID  \n",
       "0                                           000978  \n",
       "1                                           000802  \n",
       "2      2020-09-04T00:00:00                  000937  \n",
       "3      2020-10-31T00:00:00                  000943  \n",
       "4      2019-05-17T00:00:00                  000524  "
      ]
     },
     "execution_count": 5,
     "metadata": {},
     "output_type": "execute_result"
    }
   ],
   "source": [
    "employee_list.head()"
   ]
  },
  {
   "cell_type": "code",
   "execution_count": 6,
   "metadata": {},
   "outputs": [],
   "source": [
    "EmployeeNameandID = employee_list[['Name', 'External ID']]"
   ]
  },
  {
   "cell_type": "code",
   "execution_count": 7,
   "metadata": {},
   "outputs": [
    {
     "name": "stderr",
     "output_type": "stream",
     "text": [
      "C:\\Users\\Jeremy Wendt\\anaconda3\\lib\\site-packages\\pandas\\core\\series.py:4563: SettingWithCopyWarning: \n",
      "A value is trying to be set on a copy of a slice from a DataFrame\n",
      "\n",
      "See the caveats in the documentation: https://pandas.pydata.org/pandas-docs/stable/user_guide/indexing.html#returning-a-view-versus-a-copy\n",
      "  return super().replace(\n"
     ]
    }
   ],
   "source": [
    "EmployeeNameandID['External ID'].replace('', np.nan, inplace=True)"
   ]
  },
  {
   "cell_type": "code",
   "execution_count": 8,
   "metadata": {},
   "outputs": [
    {
     "name": "stderr",
     "output_type": "stream",
     "text": [
      "<ipython-input-8-32126b0cb961>:1: SettingWithCopyWarning: \n",
      "A value is trying to be set on a copy of a slice from a DataFrame\n",
      "\n",
      "See the caveats in the documentation: https://pandas.pydata.org/pandas-docs/stable/user_guide/indexing.html#returning-a-view-versus-a-copy\n",
      "  EmployeeNameandID.dropna(subset=['External ID'], inplace=True)\n"
     ]
    }
   ],
   "source": [
    "EmployeeNameandID.dropna(subset=['External ID'], inplace=True)"
   ]
  },
  {
   "cell_type": "code",
   "execution_count": 9,
   "metadata": {},
   "outputs": [
    {
     "data": {
      "text/plain": [
       "447"
      ]
     },
     "execution_count": 9,
     "metadata": {},
     "output_type": "execute_result"
    }
   ],
   "source": [
    "len(EmployeeNameandID)"
   ]
  },
  {
   "cell_type": "code",
   "execution_count": 10,
   "metadata": {},
   "outputs": [],
   "source": [
    "employee_id_list = employee_list['External ID'].tolist()"
   ]
  },
  {
   "cell_type": "code",
   "execution_count": 11,
   "metadata": {},
   "outputs": [],
   "source": [
    "employee_id_list = list(filter(None, employee_id_list))"
   ]
  },
  {
   "cell_type": "code",
   "execution_count": 12,
   "metadata": {},
   "outputs": [
    {
     "name": "stdout",
     "output_type": "stream",
     "text": [
      "447\n"
     ]
    }
   ],
   "source": [
    "print(len(employee_id_list))"
   ]
  },
  {
   "cell_type": "code",
   "execution_count": 13,
   "metadata": {},
   "outputs": [],
   "source": [
    "df1['Memo'] = df1['Memo'].astype('string')"
   ]
  },
  {
   "cell_type": "code",
   "execution_count": 14,
   "metadata": {},
   "outputs": [
    {
     "data": {
      "text/plain": [
       "Date                               object\n",
       "Period                             object\n",
       "GL Account                         object\n",
       "Document Number                    object\n",
       "Program                            object\n",
       "Initiative                         object\n",
       "Project                            object\n",
       "Restriction                        object\n",
       "Grant                              object\n",
       "Amount                             object\n",
       "Vendor Name                        object\n",
       "Employee Name                      object\n",
       "Memo                               string\n",
       "Amount (Credit)                    object\n",
       "Amount (Debit)                     object\n",
       "Client                             object\n",
       "Transaction Number                 object\n",
       "Type                               object\n",
       "Vendor Rate                        object\n",
       "Vendor Contract Expiration Date    object\n",
       "dtype: object"
      ]
     },
     "execution_count": 14,
     "metadata": {},
     "output_type": "execute_result"
    }
   ],
   "source": [
    "df1.dtypes"
   ]
  },
  {
   "cell_type": "code",
   "execution_count": 15,
   "metadata": {},
   "outputs": [],
   "source": [
    "all_ids = '|'.join(employee_id_list)"
   ]
  },
  {
   "cell_type": "code",
   "execution_count": 16,
   "metadata": {},
   "outputs": [
    {
     "data": {
      "text/plain": [
       "'000978|000802|000937|000943|000524|000631|001029|000952|000663|000981|000847|000945|000586|000620|000583|000622|000549|000550|000891|000977|000639|000563|000558|000447|000832|000913|000878|000935|000106|000453|000902|000539|000409|000595|000614|000574|000831|001012|000658|000889|000973|000554|000926|000499|000502|000951|000907|000863|000931|000885|000850|000919|000846|000638|001030|000229|000967|000972|000629|000476|000914|000572|000918|000293|000893|000936|000816|000879|000856|000635|000920|001028|000456|000131|000589|000827|000646|000566|000274|000569|000641|000826|000649|000851|000818|000912|000601|000437|000867|000580|000581|000403|000623|001017|000896|000643|000634|000472|000520|001022|000655|000815|000911|000984|000388|000895|000323|000624|000954|000849|000157|000823|000458|000890|000382|000428|000531|000479|001004|000396|000664|000400|000657|000480|000616|000408|000840|000988|000291|000559|000908|000821|000363|000933|000604|000401|000613|000905|000215|000445|001003|000925|000214|000651|000246|000598|000272|001013|000603|000415|000946|000579|000240|000991|000955|000804|000940|000844|000910|000985|000405|000578|000621|001014|000969|000610|000924|000894|000584|000301|000852|000391|000593|000544|000256|000611|000442|000625|000482|000439|000561|000899|000993|000511|000845|000886|000959|000386|000837|000645|000302|000864|000322|000543|000446|000127|000510|000533|000588|000862|000530|000968|001015|000420|000297|000560|000822|000617|000842|000808|000803|001016|001002|000953|000342|000987|000875|000929|000481|000303|000811|000974|000402|000836|000650|000971|000465|000900|000553|000443|000904|000587|000835|000605|000903|000504|000538|000555|000843|000360|000508|000656|000868|000870|000474|001005|000433|000223|000444|000661|000982|000378|000547|000503|000861|000970|000975|000371|000986|000869|000630|001011|000534|001008|000575|000522|000807|000640|000590|000385|000906|000591|000654|000364|000122|000881|000948|000475|000540|000932|000883|000532|000965|000647|000950|000425|000637|000956|001001|000506|000949|000493|000898|000232|000463|000612|000568|000507|000909|000546|000392|000107|000659|000577|000436|000813|000892|000865|000958|000627|000262|000619|000876|000901|000990|000941|000888|000225|000942|000478|000536|000599|000565|000636|000665|000994|000596|000648|000897|000997|000939|000947|000618|001027|000576|001000|000527|001025|000607|000801|000833|000542|000564|000512|000594|000535|000394|000957|000817|000500|000602|000570|000556|000820|000928|000264|000999|000642|000592|000548|000829|000267|000389|000567|000653|000340|000830|000311|000998|000517|000652|000573|000551|000150|000557|000809|000632|000597|000930|001006|001007|000628|000834|000585|000552|000887|000660|000562|000541|000608|000916|000606|000877|000921|000545|000996|000626|000806|000828|000917|000860|000571|000393|000449|000838|000934|000814|000866|000841|000966|000839|000633|000983|000882|001009|999999|000609|000529|000944|001010|000938|000615|000413|000537|000992|000518|000819|000644|000130|001031|000124|000116|000880|000923|000927|000884|000423|000848|000582|000411|000989|000872|000600|000976|000922|000424|000980'"
      ]
     },
     "execution_count": 16,
     "metadata": {},
     "output_type": "execute_result"
    }
   ],
   "source": [
    "all_ids"
   ]
  },
  {
   "cell_type": "code",
   "execution_count": 17,
   "metadata": {},
   "outputs": [],
   "source": [
    "def return_first(x):\n",
    "    try:\n",
    "        y = x[0]\n",
    "    except:\n",
    "        y = \"\"\n",
    "    return y"
   ]
  },
  {
   "cell_type": "code",
   "execution_count": 18,
   "metadata": {},
   "outputs": [],
   "source": [
    "df1['External ID'] = df1['Memo'].str.findall(all_ids).apply(return_first)"
   ]
  },
  {
   "cell_type": "code",
   "execution_count": 19,
   "metadata": {},
   "outputs": [],
   "source": [
    "employee_name_list = employee_list['Name'].tolist()"
   ]
  },
  {
   "cell_type": "code",
   "execution_count": 20,
   "metadata": {},
   "outputs": [],
   "source": [
    "employee_name_list = list(filter(None, employee_name_list))"
   ]
  },
  {
   "cell_type": "code",
   "execution_count": 21,
   "metadata": {},
   "outputs": [],
   "source": [
    "all_names = '|'.join(employee_name_list)"
   ]
  },
  {
   "cell_type": "code",
   "execution_count": 22,
   "metadata": {},
   "outputs": [
    {
     "data": {
      "text/plain": [
       "'Aaron Davitt|Aaron G Glazer|Aaron Schwartz|Abhishek Jain|Adam Klauber|Adam McKittrick|Adefunke Sonaike|Adriana Cid|Agnes Li|Ailin Asadinejad|Aimee Schwartze|Aishwarya Jaishankar|Akshay Krishnan|Alexander Engel|Alexander J Prince|Alexander Klonick|Alexandra Chin|Alexandra Rotatori|Alexandra Tsubota|Alexis Tubb|Ali Kargar|Alicia Noriega|Alisa Petersen|Allison Crow|Aman Chitkara|Amanda Farthing|Amar Shah|Ambrosia Gensterblum|Amit Halevi|Amory Lovins|Amy Baum|Amy Dalton|Amy Egerter|Amy Westervelt|Ana  S Mifsud|Andrew Keeton|Angela Whitney|Angelique Fathy|Anish Tilak|Ankit Kalanki|Anna  Ledden|Anna Palmer|Annabelle Sullivan|Annalise Grueter|Annis Benn|Anthony Teixeira|Aparna Ramesh|Aradhana Gahlaut|Ashley  Wiles|Ashley Gremel|Ashley Tate|Audrey Allen|Audrey Rempher|Avery McEvoy|Avril Levasseur|Ben  Shapiro|Ben Holland|Ben Miller|Ben Serrurier|Benjamin Miller|Bianca Wachtel|Billy Mwanda|Bingqi Liu|Blair Swift|Bonny Joseph|Brad Mushovic|Brady Seals|Brent Butler|Brett Webster|Brian O\\'Hanlon|Britta Gross|Bruce Nilles|Bryan Hassin|Caitlin Bonney|Caitlin Odom|Calista Ruh|Cara Carmichael|Cara Goldenberg|Carla Dunlap|Carla M Frisch|Carlyn Nading|Carol Nasta|Caroline Ott|Caroline Winslow|Caroline Zhu|Carolyn Hight|Charles  Teplin|Charles Bloch|Charles Cannon|Chathurika Gamage|Chelsea Bolton|Chelsea Samot|Cheng Zhang|Chiel Borenstein|Chinedum E Ezeagwula|Chris McClurg|Chris T Tallackson|Christian  Fong|Christian Roselund|Christine Phan|Christopher Bowman|Christopher Burgess|Christopher Nelder|Christopher Patino|Christy Lewis|Chuck Ray|Chung Im|Chuyun Zeng|Cindy Nguyen|Claire Henly|Claire McKenna|Claire Wang|Clarisse Lilley|Clay Stranger|Concur Integration|Connor Cox|Connor Usry|Connor Valaik|Coreina Chan|Cory Felder|Courtney Fairbrother|Courtney Fieldman|Craig Schiller|Curtis Probst|Cynthia Baker|Cynthia Ma|Cyril Yee|Dai Lin|Daniel Cross-Call|Daniel L Slanger|Daniel Wetzel|Danielle Li|Darius Nassiry|Datamigration User|David Labrador|David Levy|David Mullaney|David Paolella|David Robles|David Schlais|Debra Giallombardo|Denali Hussin|Denise Grab|Denise T Greene|Derek Hitchman|Devi Glick|Diego Hakim|Donna Breight|Douglas Miller|Ebunoluwa Ayandele|Edith Taylor|Edward Harvey|Edward Klock-McCook|Edward Whitaker|Elaine Hsieh|Elizabeth After|Elizabeth Hartman|Elizabeth Leach|Elizabeth O\\'Grady|Ellen Franconi|Emily Beagle|Emily Davenport|Emily Goldfield|Emily McMahon|Emily Zhang|Eric Braswell|Eric Wanless|Erifili Draklellis|Estefania Marchan|Ethan Wampler|Evan Syers|Fang Feng|Frances Reuland|Gabriela De Oliveira Volpato|Garrett Fitzgerald|Gavin McCormick|Genevieve Lillis|Gennelle  Wilson|Geoff Hancock|Grace Mitchell|Grace Sweeney|Greg \"Jerry\" Hales|Greg Bohus|Gregory Hopkins|Gregory Rucks|Guy Wohl|Han Cai|Hayes Zirnhelt|Heather House|Heather McCreery|Hector Maglione|Helen  Zhang|Henry Richardson|Herve Touati|Holly Leonard|Iain Campbell|Ian T Kelly|Integrations User|Isaac Toussie|Ishan Saraswat|Jacob  Trumbull|Jacob Corvidae|Jacob Glassman|Jacob Mueller|James Gilman|James Mandel|James McLane|James Mitchell|James Newcomb|James Rohman|James Sherwood|Jamil Farbes|Jason Meyer|Jeannene Cruise Woolley|Jeffrey Waller|Jennifer Childs|Jennifer Gilley|Jennifer Goldman|Jennifer Stokes|Jeremy Freeman|Jeremy Wendt|Jeruld Weiland|Jesse Morris|Jessica Lund|Jessie Ciulla|Ji Chen|Jiayi Zhang|Jiayin Song|Joanna Unruh|Joanna Wagner|Joel Cofield|Joey  Cathcart|John Matson|John Perez|John Schroeder|Jon Creyts|Jonathan Kocher|Jonathan Rea|Jose E Rodriguez Jimenez|Joseph Goodman|Joshua Agenbroad|Joshua Brooks|Jubing Ge|Jules Kortenhorst|Julia Hofmann|Julia Meisel|Jun Shepard|Justin Locke|Kaily Bourg|Kaitlin Wutschel|Kaitlyn Bunker|Kaja Rebane|Kareem Dabbagh|Kareem Hammoud|Katelyn Searcy|Katerina Stephan|Katherine Chrisman|Katherine Mark|Kathleen Baireuther|Kathleen Mulvaney|Kathleen Wight|Kathryn Lau|Katie Ryan|Katie Siegner|Katrina  M Frank|Katya Whyte|Keenan Johnson|Kelly Carlin|Kelly Vaughn|Kendall Ernst|Kester Wade|Keto Zhang|Kevin Brehm|Kevin Haley|Kieran Coleman|Kiley Kroh|Kirsten Millar|Kirsten Seeborg|Koben Calhoun|Krishna Karra|Kristine Chan-Lizardo|Krutarth Jhaveri|Kyle Clark-Sutton|Lara Johnson|Lara Owens|Larissa Pauli|Lars Thomas Koch Blank|Laura Corso|Laura Hutchinson|Lauren Shwisberg|Laurie A Stone|Leah Louis-Prescott|Leah Mosier|Lee Ann Baronett|Leia Guccione|Lena Hansen|Lena Nguyen|Liam Keyek|Lily Donge|Lindsey Chew|Lindsey Schafferer|Lisa Jaccoma|Lisa Phillips|Lisa Sundeen|Lucas Toffoli|Lucy Kessler|Lucy Lu|Luke Liechty|Lynn Daniels|Madeline Tyson|Madeline Weir|Maggie Buford|Manfei He|Margaret McCall|Maria Hernandez|Marijke Jongbloed|Marj Webster|Mark Dyson|Mark Grundy|Mark Kelkenberg|Mark Porter|Mark Silberg|Marsha Barancik|Marshall Abramczyk|Martha Campbell|Martha Pickett|Mary McInnis-Efaw|Matthew Evans|Matthew Jungclaus|Matthew Popkin|Maura Lillis|Maura Mooney|Maximiliano Herrera|Megan Kerins|Megan Shean|Melanie Richard|Melissa Crogle|Melissa Roberts|Meng Wang|Meredith Cowart|Mia Reback|Michael Banker|Michael Bendewald|Michael Campton|Michael Gartman|Michael Henchen|Michael Liebman|Michael Roeth|Michael Tuckfelt|Michelle Steege|Mina Lee|Miranda  A Ballentine|Misty Burns|Molly Keleher|Nancy McKinney|Nathan Iyer|Nathaniel Buescher|Nicholas Amuchastegui|Nicholas Pesta|Nicholas Steel|Nicole Leonard|Nicole Martin|Nicole Simonelli|Nicole Snider|Nicole Tilley|Oliver Tully|Pamela Schuckies|Pamela Turpin|Paolo Natali|Patrick Molloy|Paul Bodnar|Philip Keuhn|Pintian Chen|Pranav Lakhina|Qian Sun|Qiyu Liu|Rachel Gold|Rachel T Hohensee|Rachit Kansal|Radhika Lalit|Raghav Muralidharan|Raghuram Sunnam|Rebecca Cole|Rebecca Esau|Rebecca Pimentel|Richard Li|Richard Ward|Richenda Van Leeuwen|Richlyn C Pavcek|Robert McIntosh|Roberto Zanchi|Robin Quarrier|Romy Purshouse|Rosanna Ren|Roy Torbert|Rudy Kahsar|Ruosida Lin|Ruoyao Zhang|Rushad Nanavatty|Ruth Karagacha|Ruthanne S Elkins|Ryan Laemel|Ryan Shea|S Chillara|Saarthak Narsipur|Sachiko H Graber|Sakhi Shah|Sally Jernigan-Smith|Sam Koebrich|Sam Mardell|Sam Peters|Samhita Shiledar|Samuel Hartnett|Sarah La Monaca|Savannah Bornstein|Scarlett Santana|Selena Wang-Thomas|Seth Coan|Sha Liu|Sharon Posner|Sheldon Mendonca|Shelley Backstrom|ShenShen Li|Sherri Billimoria|Shidong Zhang|Shravan Bhat|Shuyi Li|Sidney Jules|Siri Chillara|Sneha Ayyagari|Srilekha Sridhar|Stephanie Greene|Stephanie Krail|Stephen Abbott|Stephen Doig|Stephen Lezak|Stephen McShane|Stephen Mushegan|Suguru Ide|Sumin Wang|Suzanne Hopkins|Swaroop Atnoorkar|Sydney Hanson|Talor Gruenwald|Tamara Grbusic|Tessa Weiss|Testing Hedgehog|Thomas  Kirk|Thomas Doyle|Thomas Hancock|Thomas Kassel|Tian Qiao|Tierney Sheehan|Timithy Singer|Timothy Karfs|Ting Li|Titiaan Palazzi|Todd Zeranski|Tushar Khurana|Tyeler Matsuo|Tzu C Huang|Uday Varadarajan|Veronica Cortes|Victor Olgyay|Vinita Srinivasan|Virginia Lacy|Virginia Yang|Wendell Cathcart|Wendy Jaglom|Wendy McGill|Whitney Luhr|Whitney Mann|Xiang Li|Xilu Li|Xin Zhang|Xinyue Li|Y Liu|Yanjun Wu|Yi Ke|Yihan Hao|Yiyan Cao|Yu Ann Tan|Yuan Yao|Yuning Liu|Zach Alles|Zachary Subin|Zhe Wang|Zhixin Wang|Zihe Meng|Ziying Han|Zora Xiang'"
      ]
     },
     "execution_count": 22,
     "metadata": {},
     "output_type": "execute_result"
    }
   ],
   "source": [
    "all_names"
   ]
  },
  {
   "cell_type": "code",
   "execution_count": 23,
   "metadata": {},
   "outputs": [],
   "source": [
    "all_names = all_names + \"|Nathan Cummings|Agnis Li|Anna Ledden|Greg Hales|Rachel Hohensee|Li Ma\""
   ]
  },
  {
   "cell_type": "code",
   "execution_count": 24,
   "metadata": {},
   "outputs": [],
   "source": [
    "df1['Match ID Names'] = df1['Memo'].str.findall(all_names).apply(return_first)"
   ]
  },
  {
   "cell_type": "code",
   "execution_count": 25,
   "metadata": {},
   "outputs": [],
   "source": [
    "df1 = pd.merge(df1, EmployeeNameandID, on = 'External ID', how='left')"
   ]
  },
  {
   "cell_type": "code",
   "execution_count": 26,
   "metadata": {},
   "outputs": [],
   "source": [
    "df1['Match ID Names'].replace('', np.nan, inplace=True)"
   ]
  },
  {
   "cell_type": "code",
   "execution_count": 27,
   "metadata": {},
   "outputs": [],
   "source": [
    "df1['Name'].replace('', np.nan, inplace=True)"
   ]
  },
  {
   "cell_type": "code",
   "execution_count": 28,
   "metadata": {},
   "outputs": [],
   "source": [
    "df1['Name'].fillna(df1['Match ID Names'], inplace=True)"
   ]
  },
  {
   "cell_type": "code",
   "execution_count": null,
   "metadata": {},
   "outputs": [],
   "source": []
  },
  {
   "cell_type": "code",
   "execution_count": 29,
   "metadata": {},
   "outputs": [
    {
     "data": {
      "text/plain": [
       "73439"
      ]
     },
     "execution_count": 29,
     "metadata": {},
     "output_type": "execute_result"
    }
   ],
   "source": [
    "len(df1)"
   ]
  },
  {
   "cell_type": "code",
   "execution_count": 30,
   "metadata": {},
   "outputs": [],
   "source": [
    "allocations = ['BONUS ALLOCATION', 'ADMIN ALLOCATION', 'PTO/HOLIDAY ALLOCATION']"
   ]
  },
  {
   "cell_type": "code",
   "execution_count": 31,
   "metadata": {},
   "outputs": [],
   "source": [
    "all_allocations = '|'.join(allocations)"
   ]
  },
  {
   "cell_type": "code",
   "execution_count": 32,
   "metadata": {},
   "outputs": [],
   "source": [
    "df1['ALLOCATION'] = df1['Memo'].str.findall(all_allocations).apply(return_first)"
   ]
  },
  {
   "cell_type": "code",
   "execution_count": 33,
   "metadata": {},
   "outputs": [],
   "source": [
    "lookups = pd.read_excel('../Data/raw/lookups.xlsx')"
   ]
  },
  {
   "cell_type": "code",
   "execution_count": 34,
   "metadata": {},
   "outputs": [
    {
     "data": {
      "text/html": [
       "<div>\n",
       "<style scoped>\n",
       "    .dataframe tbody tr th:only-of-type {\n",
       "        vertical-align: middle;\n",
       "    }\n",
       "\n",
       "    .dataframe tbody tr th {\n",
       "        vertical-align: top;\n",
       "    }\n",
       "\n",
       "    .dataframe thead th {\n",
       "        text-align: right;\n",
       "    }\n",
       "</style>\n",
       "<table border=\"1\" class=\"dataframe\">\n",
       "  <thead>\n",
       "    <tr style=\"text-align: right;\">\n",
       "      <th></th>\n",
       "      <th>GL Account</th>\n",
       "      <th>Rollup Account</th>\n",
       "    </tr>\n",
       "  </thead>\n",
       "  <tbody>\n",
       "    <tr>\n",
       "      <th>0</th>\n",
       "      <td>5010 Contributions Revenue : Foundation Contri...</td>\n",
       "      <td>5000 Contributions Revenue</td>\n",
       "    </tr>\n",
       "    <tr>\n",
       "      <th>1</th>\n",
       "      <td>5015 Contributions Revenue : Campaign Foundati...</td>\n",
       "      <td>5000 Contributions Revenue</td>\n",
       "    </tr>\n",
       "    <tr>\n",
       "      <th>2</th>\n",
       "      <td>5020 Contributions Revenue : Individual Contri...</td>\n",
       "      <td>5000 Contributions Revenue</td>\n",
       "    </tr>\n",
       "    <tr>\n",
       "      <th>3</th>\n",
       "      <td>5025 Contributions Revenue : Campaign Corporat...</td>\n",
       "      <td>5000 Contributions Revenue</td>\n",
       "    </tr>\n",
       "    <tr>\n",
       "      <th>4</th>\n",
       "      <td>5030 Contributions Revenue : Endowment Contrib...</td>\n",
       "      <td>5000 Contributions Revenue</td>\n",
       "    </tr>\n",
       "  </tbody>\n",
       "</table>\n",
       "</div>"
      ],
      "text/plain": [
       "                                          GL Account  \\\n",
       "0  5010 Contributions Revenue : Foundation Contri...   \n",
       "1  5015 Contributions Revenue : Campaign Foundati...   \n",
       "2  5020 Contributions Revenue : Individual Contri...   \n",
       "3  5025 Contributions Revenue : Campaign Corporat...   \n",
       "4  5030 Contributions Revenue : Endowment Contrib...   \n",
       "\n",
       "               Rollup Account  \n",
       "0  5000 Contributions Revenue  \n",
       "1  5000 Contributions Revenue  \n",
       "2  5000 Contributions Revenue  \n",
       "3  5000 Contributions Revenue  \n",
       "4  5000 Contributions Revenue  "
      ]
     },
     "execution_count": 34,
     "metadata": {},
     "output_type": "execute_result"
    }
   ],
   "source": [
    "lookups.head()"
   ]
  },
  {
   "cell_type": "code",
   "execution_count": 35,
   "metadata": {},
   "outputs": [],
   "source": [
    "df1 = pd.merge(df1, lookups, on = 'GL Account', how='left')"
   ]
  },
  {
   "cell_type": "code",
   "execution_count": 36,
   "metadata": {},
   "outputs": [],
   "source": [
    "df1['Account Digit'] = df1['GL Account'].astype('string').str[0]"
   ]
  },
  {
   "cell_type": "code",
   "execution_count": 37,
   "metadata": {},
   "outputs": [],
   "source": [
    "df1['Amount'] = df1['Amount'].astype(float)"
   ]
  },
  {
   "cell_type": "code",
   "execution_count": 38,
   "metadata": {},
   "outputs": [],
   "source": [
    "account_exceptions = ['To reclass', 'Reclass']"
   ]
  },
  {
   "cell_type": "code",
   "execution_count": 39,
   "metadata": {},
   "outputs": [],
   "source": [
    "Accounting_Moves = '|'.join(account_exceptions)"
   ]
  },
  {
   "cell_type": "code",
   "execution_count": 40,
   "metadata": {},
   "outputs": [],
   "source": [
    "closeout = 'close out'"
   ]
  },
  {
   "cell_type": "code",
   "execution_count": 41,
   "metadata": {},
   "outputs": [],
   "source": [
    "df1['Accounting Adjustments'] = df1['Memo'].str.findall(Accounting_Moves).apply(return_first)"
   ]
  },
  {
   "cell_type": "code",
   "execution_count": 42,
   "metadata": {},
   "outputs": [],
   "source": [
    "df1['Accounting Close Out'] = df1['Memo'].str.findall(closeout).apply(return_first)"
   ]
  },
  {
   "cell_type": "code",
   "execution_count": 43,
   "metadata": {},
   "outputs": [],
   "source": [
    "df1['Vendor Contract Expiration Date'] = pd.to_datetime(df1['Vendor Contract Expiration Date'])"
   ]
  },
  {
   "cell_type": "code",
   "execution_count": 44,
   "metadata": {},
   "outputs": [],
   "source": [
    "df1['Vendor Contract Expiration Date'] = df1['Vendor Contract Expiration Date'].dt.date"
   ]
  },
  {
   "cell_type": "code",
   "execution_count": 45,
   "metadata": {},
   "outputs": [],
   "source": [
    "df1.to_excel('Output.xlsx')"
   ]
  },
  {
   "cell_type": "code",
   "execution_count": null,
   "metadata": {},
   "outputs": [],
   "source": []
  },
  {
   "cell_type": "code",
   "execution_count": null,
   "metadata": {},
   "outputs": [],
   "source": []
  },
  {
   "cell_type": "code",
   "execution_count": null,
   "metadata": {},
   "outputs": [],
   "source": []
  },
  {
   "cell_type": "code",
   "execution_count": null,
   "metadata": {},
   "outputs": [],
   "source": []
  }
 ],
 "metadata": {
  "kernelspec": {
   "display_name": "Python 3",
   "language": "python",
   "name": "python3"
  },
  "language_info": {
   "codemirror_mode": {
    "name": "ipython",
    "version": 3
   },
   "file_extension": ".py",
   "mimetype": "text/x-python",
   "name": "python",
   "nbconvert_exporter": "python",
   "pygments_lexer": "ipython3",
   "version": "3.8.5"
  }
 },
 "nbformat": 4,
 "nbformat_minor": 4
}
